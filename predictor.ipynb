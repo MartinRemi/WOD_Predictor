{
 "cells": [
  {
   "cell_type": "markdown",
   "metadata": {},
   "source": [
    "# WOD predictor"
   ]
  },
  {
   "cell_type": "markdown",
   "metadata": {},
   "source": [
    "## Objective\n",
    "\n",
    "A WOD is a workout of the day. It is a specific, pre-written workout that is often used in CrossFit and other high-intensity interval training (HIIT) programs. The workout typically includes a variety of exercises, such as weightlifting, calisthenics, and cardio, and is designed to be challenging and to improve overall fitness.\n",
    "\n",
    "The objective for this project is to train learning models to predict future WODs."
   ]
  },
  {
   "cell_type": "markdown",
   "metadata": {},
   "source": [
    "## WOD scraping"
   ]
  },
  {
   "cell_type": "markdown",
   "metadata": {},
   "source": [
    "We are first scrapping WODs on Zenplanner.\n",
    "The scrapping code is not super optimized there's still changes to be made.\n",
    "\n",
    "/!\\ May not work anymore if Zenplanner's DOM is changed."
   ]
  },
  {
   "cell_type": "code",
   "execution_count": 3,
   "metadata": {},
   "outputs": [],
   "source": [
    "import requests\n",
    "from bs4 import BeautifulSoup\n",
    "import numpy as np\n",
    "\n",
    "from keras.models import Sequential\n",
    "from keras.layers import Dense\n",
    "from keras.layers import Dropout\n",
    "from keras.layers import LSTM\n",
    "from keras.callbacks import ModelCheckpoint\n",
    "from keras.utils import np_utils"
   ]
  },
  {
   "cell_type": "code",
   "execution_count": 4,
   "metadata": {},
   "outputs": [
    {
     "ename": "MissingSchema",
     "evalue": "Invalid URL '': No scheme supplied. Perhaps you meant http://?",
     "output_type": "error",
     "traceback": [
      "\u001b[0;31m---------------------------------------------------------------------------\u001b[0m",
      "\u001b[0;31mMissingSchema\u001b[0m                             Traceback (most recent call last)",
      "Cell \u001b[0;32mIn[4], line 31\u001b[0m\n\u001b[1;32m     29\u001b[0m workouts \u001b[38;5;241m=\u001b[39m []\n\u001b[1;32m     30\u001b[0m \u001b[38;5;28;01mwhile\u001b[39;00m \u001b[38;5;28;01mTrue\u001b[39;00m:\n\u001b[0;32m---> 31\u001b[0m     page \u001b[38;5;241m=\u001b[39m \u001b[43mrequests\u001b[49m\u001b[38;5;241;43m.\u001b[39;49m\u001b[43mget\u001b[49m\u001b[43m(\u001b[49m\u001b[43mURL\u001b[49m\u001b[43m)\u001b[49m\n\u001b[1;32m     32\u001b[0m     workout, date, URL, rest \u001b[38;5;241m=\u001b[39m parsePage(page)\n\u001b[1;32m     33\u001b[0m     \u001b[38;5;28;01mif\u001b[39;00m \u001b[38;5;129;01mnot\u001b[39;00m(rest):\n",
      "File \u001b[0;32m~/opt/anaconda3/envs/WODGeneration/lib/python3.10/site-packages/requests/api.py:73\u001b[0m, in \u001b[0;36mget\u001b[0;34m(url, params, **kwargs)\u001b[0m\n\u001b[1;32m     62\u001b[0m \u001b[38;5;28;01mdef\u001b[39;00m \u001b[38;5;21mget\u001b[39m(url, params\u001b[38;5;241m=\u001b[39m\u001b[38;5;28;01mNone\u001b[39;00m, \u001b[38;5;241m*\u001b[39m\u001b[38;5;241m*\u001b[39mkwargs):\n\u001b[1;32m     63\u001b[0m     \u001b[38;5;124mr\u001b[39m\u001b[38;5;124;03m\"\"\"Sends a GET request.\u001b[39;00m\n\u001b[1;32m     64\u001b[0m \n\u001b[1;32m     65\u001b[0m \u001b[38;5;124;03m    :param url: URL for the new :class:`Request` object.\u001b[39;00m\n\u001b[0;32m   (...)\u001b[0m\n\u001b[1;32m     70\u001b[0m \u001b[38;5;124;03m    :rtype: requests.Response\u001b[39;00m\n\u001b[1;32m     71\u001b[0m \u001b[38;5;124;03m    \"\"\"\u001b[39;00m\n\u001b[0;32m---> 73\u001b[0m     \u001b[38;5;28;01mreturn\u001b[39;00m \u001b[43mrequest\u001b[49m\u001b[43m(\u001b[49m\u001b[38;5;124;43m\"\u001b[39;49m\u001b[38;5;124;43mget\u001b[39;49m\u001b[38;5;124;43m\"\u001b[39;49m\u001b[43m,\u001b[49m\u001b[43m \u001b[49m\u001b[43murl\u001b[49m\u001b[43m,\u001b[49m\u001b[43m \u001b[49m\u001b[43mparams\u001b[49m\u001b[38;5;241;43m=\u001b[39;49m\u001b[43mparams\u001b[49m\u001b[43m,\u001b[49m\u001b[43m \u001b[49m\u001b[38;5;241;43m*\u001b[39;49m\u001b[38;5;241;43m*\u001b[39;49m\u001b[43mkwargs\u001b[49m\u001b[43m)\u001b[49m\n",
      "File \u001b[0;32m~/opt/anaconda3/envs/WODGeneration/lib/python3.10/site-packages/requests/api.py:59\u001b[0m, in \u001b[0;36mrequest\u001b[0;34m(method, url, **kwargs)\u001b[0m\n\u001b[1;32m     55\u001b[0m \u001b[38;5;66;03m# By using the 'with' statement we are sure the session is closed, thus we\u001b[39;00m\n\u001b[1;32m     56\u001b[0m \u001b[38;5;66;03m# avoid leaving sockets open which can trigger a ResourceWarning in some\u001b[39;00m\n\u001b[1;32m     57\u001b[0m \u001b[38;5;66;03m# cases, and look like a memory leak in others.\u001b[39;00m\n\u001b[1;32m     58\u001b[0m \u001b[38;5;28;01mwith\u001b[39;00m sessions\u001b[38;5;241m.\u001b[39mSession() \u001b[38;5;28;01mas\u001b[39;00m session:\n\u001b[0;32m---> 59\u001b[0m     \u001b[38;5;28;01mreturn\u001b[39;00m \u001b[43msession\u001b[49m\u001b[38;5;241;43m.\u001b[39;49m\u001b[43mrequest\u001b[49m\u001b[43m(\u001b[49m\u001b[43mmethod\u001b[49m\u001b[38;5;241;43m=\u001b[39;49m\u001b[43mmethod\u001b[49m\u001b[43m,\u001b[49m\u001b[43m \u001b[49m\u001b[43murl\u001b[49m\u001b[38;5;241;43m=\u001b[39;49m\u001b[43murl\u001b[49m\u001b[43m,\u001b[49m\u001b[43m \u001b[49m\u001b[38;5;241;43m*\u001b[39;49m\u001b[38;5;241;43m*\u001b[39;49m\u001b[43mkwargs\u001b[49m\u001b[43m)\u001b[49m\n",
      "File \u001b[0;32m~/opt/anaconda3/envs/WODGeneration/lib/python3.10/site-packages/requests/sessions.py:573\u001b[0m, in \u001b[0;36mSession.request\u001b[0;34m(self, method, url, params, data, headers, cookies, files, auth, timeout, allow_redirects, proxies, hooks, stream, verify, cert, json)\u001b[0m\n\u001b[1;32m    560\u001b[0m \u001b[38;5;66;03m# Create the Request.\u001b[39;00m\n\u001b[1;32m    561\u001b[0m req \u001b[38;5;241m=\u001b[39m Request(\n\u001b[1;32m    562\u001b[0m     method\u001b[38;5;241m=\u001b[39mmethod\u001b[38;5;241m.\u001b[39mupper(),\n\u001b[1;32m    563\u001b[0m     url\u001b[38;5;241m=\u001b[39murl,\n\u001b[0;32m   (...)\u001b[0m\n\u001b[1;32m    571\u001b[0m     hooks\u001b[38;5;241m=\u001b[39mhooks,\n\u001b[1;32m    572\u001b[0m )\n\u001b[0;32m--> 573\u001b[0m prep \u001b[38;5;241m=\u001b[39m \u001b[38;5;28;43mself\u001b[39;49m\u001b[38;5;241;43m.\u001b[39;49m\u001b[43mprepare_request\u001b[49m\u001b[43m(\u001b[49m\u001b[43mreq\u001b[49m\u001b[43m)\u001b[49m\n\u001b[1;32m    575\u001b[0m proxies \u001b[38;5;241m=\u001b[39m proxies \u001b[38;5;129;01mor\u001b[39;00m {}\n\u001b[1;32m    577\u001b[0m settings \u001b[38;5;241m=\u001b[39m \u001b[38;5;28mself\u001b[39m\u001b[38;5;241m.\u001b[39mmerge_environment_settings(\n\u001b[1;32m    578\u001b[0m     prep\u001b[38;5;241m.\u001b[39murl, proxies, stream, verify, cert\n\u001b[1;32m    579\u001b[0m )\n",
      "File \u001b[0;32m~/opt/anaconda3/envs/WODGeneration/lib/python3.10/site-packages/requests/sessions.py:484\u001b[0m, in \u001b[0;36mSession.prepare_request\u001b[0;34m(self, request)\u001b[0m\n\u001b[1;32m    481\u001b[0m     auth \u001b[38;5;241m=\u001b[39m get_netrc_auth(request\u001b[38;5;241m.\u001b[39murl)\n\u001b[1;32m    483\u001b[0m p \u001b[38;5;241m=\u001b[39m PreparedRequest()\n\u001b[0;32m--> 484\u001b[0m \u001b[43mp\u001b[49m\u001b[38;5;241;43m.\u001b[39;49m\u001b[43mprepare\u001b[49m\u001b[43m(\u001b[49m\n\u001b[1;32m    485\u001b[0m \u001b[43m    \u001b[49m\u001b[43mmethod\u001b[49m\u001b[38;5;241;43m=\u001b[39;49m\u001b[43mrequest\u001b[49m\u001b[38;5;241;43m.\u001b[39;49m\u001b[43mmethod\u001b[49m\u001b[38;5;241;43m.\u001b[39;49m\u001b[43mupper\u001b[49m\u001b[43m(\u001b[49m\u001b[43m)\u001b[49m\u001b[43m,\u001b[49m\n\u001b[1;32m    486\u001b[0m \u001b[43m    \u001b[49m\u001b[43murl\u001b[49m\u001b[38;5;241;43m=\u001b[39;49m\u001b[43mrequest\u001b[49m\u001b[38;5;241;43m.\u001b[39;49m\u001b[43murl\u001b[49m\u001b[43m,\u001b[49m\n\u001b[1;32m    487\u001b[0m \u001b[43m    \u001b[49m\u001b[43mfiles\u001b[49m\u001b[38;5;241;43m=\u001b[39;49m\u001b[43mrequest\u001b[49m\u001b[38;5;241;43m.\u001b[39;49m\u001b[43mfiles\u001b[49m\u001b[43m,\u001b[49m\n\u001b[1;32m    488\u001b[0m \u001b[43m    \u001b[49m\u001b[43mdata\u001b[49m\u001b[38;5;241;43m=\u001b[39;49m\u001b[43mrequest\u001b[49m\u001b[38;5;241;43m.\u001b[39;49m\u001b[43mdata\u001b[49m\u001b[43m,\u001b[49m\n\u001b[1;32m    489\u001b[0m \u001b[43m    \u001b[49m\u001b[43mjson\u001b[49m\u001b[38;5;241;43m=\u001b[39;49m\u001b[43mrequest\u001b[49m\u001b[38;5;241;43m.\u001b[39;49m\u001b[43mjson\u001b[49m\u001b[43m,\u001b[49m\n\u001b[1;32m    490\u001b[0m \u001b[43m    \u001b[49m\u001b[43mheaders\u001b[49m\u001b[38;5;241;43m=\u001b[39;49m\u001b[43mmerge_setting\u001b[49m\u001b[43m(\u001b[49m\n\u001b[1;32m    491\u001b[0m \u001b[43m        \u001b[49m\u001b[43mrequest\u001b[49m\u001b[38;5;241;43m.\u001b[39;49m\u001b[43mheaders\u001b[49m\u001b[43m,\u001b[49m\u001b[43m \u001b[49m\u001b[38;5;28;43mself\u001b[39;49m\u001b[38;5;241;43m.\u001b[39;49m\u001b[43mheaders\u001b[49m\u001b[43m,\u001b[49m\u001b[43m \u001b[49m\u001b[43mdict_class\u001b[49m\u001b[38;5;241;43m=\u001b[39;49m\u001b[43mCaseInsensitiveDict\u001b[49m\n\u001b[1;32m    492\u001b[0m \u001b[43m    \u001b[49m\u001b[43m)\u001b[49m\u001b[43m,\u001b[49m\n\u001b[1;32m    493\u001b[0m \u001b[43m    \u001b[49m\u001b[43mparams\u001b[49m\u001b[38;5;241;43m=\u001b[39;49m\u001b[43mmerge_setting\u001b[49m\u001b[43m(\u001b[49m\u001b[43mrequest\u001b[49m\u001b[38;5;241;43m.\u001b[39;49m\u001b[43mparams\u001b[49m\u001b[43m,\u001b[49m\u001b[43m \u001b[49m\u001b[38;5;28;43mself\u001b[39;49m\u001b[38;5;241;43m.\u001b[39;49m\u001b[43mparams\u001b[49m\u001b[43m)\u001b[49m\u001b[43m,\u001b[49m\n\u001b[1;32m    494\u001b[0m \u001b[43m    \u001b[49m\u001b[43mauth\u001b[49m\u001b[38;5;241;43m=\u001b[39;49m\u001b[43mmerge_setting\u001b[49m\u001b[43m(\u001b[49m\u001b[43mauth\u001b[49m\u001b[43m,\u001b[49m\u001b[43m \u001b[49m\u001b[38;5;28;43mself\u001b[39;49m\u001b[38;5;241;43m.\u001b[39;49m\u001b[43mauth\u001b[49m\u001b[43m)\u001b[49m\u001b[43m,\u001b[49m\n\u001b[1;32m    495\u001b[0m \u001b[43m    \u001b[49m\u001b[43mcookies\u001b[49m\u001b[38;5;241;43m=\u001b[39;49m\u001b[43mmerged_cookies\u001b[49m\u001b[43m,\u001b[49m\n\u001b[1;32m    496\u001b[0m \u001b[43m    \u001b[49m\u001b[43mhooks\u001b[49m\u001b[38;5;241;43m=\u001b[39;49m\u001b[43mmerge_hooks\u001b[49m\u001b[43m(\u001b[49m\u001b[43mrequest\u001b[49m\u001b[38;5;241;43m.\u001b[39;49m\u001b[43mhooks\u001b[49m\u001b[43m,\u001b[49m\u001b[43m \u001b[49m\u001b[38;5;28;43mself\u001b[39;49m\u001b[38;5;241;43m.\u001b[39;49m\u001b[43mhooks\u001b[49m\u001b[43m)\u001b[49m\u001b[43m,\u001b[49m\n\u001b[1;32m    497\u001b[0m \u001b[43m\u001b[49m\u001b[43m)\u001b[49m\n\u001b[1;32m    498\u001b[0m \u001b[38;5;28;01mreturn\u001b[39;00m p\n",
      "File \u001b[0;32m~/opt/anaconda3/envs/WODGeneration/lib/python3.10/site-packages/requests/models.py:368\u001b[0m, in \u001b[0;36mPreparedRequest.prepare\u001b[0;34m(self, method, url, headers, files, data, params, auth, cookies, hooks, json)\u001b[0m\n\u001b[1;32m    365\u001b[0m \u001b[38;5;124;03m\"\"\"Prepares the entire request with the given parameters.\"\"\"\u001b[39;00m\n\u001b[1;32m    367\u001b[0m \u001b[38;5;28mself\u001b[39m\u001b[38;5;241m.\u001b[39mprepare_method(method)\n\u001b[0;32m--> 368\u001b[0m \u001b[38;5;28;43mself\u001b[39;49m\u001b[38;5;241;43m.\u001b[39;49m\u001b[43mprepare_url\u001b[49m\u001b[43m(\u001b[49m\u001b[43murl\u001b[49m\u001b[43m,\u001b[49m\u001b[43m \u001b[49m\u001b[43mparams\u001b[49m\u001b[43m)\u001b[49m\n\u001b[1;32m    369\u001b[0m \u001b[38;5;28mself\u001b[39m\u001b[38;5;241m.\u001b[39mprepare_headers(headers)\n\u001b[1;32m    370\u001b[0m \u001b[38;5;28mself\u001b[39m\u001b[38;5;241m.\u001b[39mprepare_cookies(cookies)\n",
      "File \u001b[0;32m~/opt/anaconda3/envs/WODGeneration/lib/python3.10/site-packages/requests/models.py:439\u001b[0m, in \u001b[0;36mPreparedRequest.prepare_url\u001b[0;34m(self, url, params)\u001b[0m\n\u001b[1;32m    436\u001b[0m     \u001b[38;5;28;01mraise\u001b[39;00m InvalidURL(\u001b[38;5;241m*\u001b[39me\u001b[38;5;241m.\u001b[39margs)\n\u001b[1;32m    438\u001b[0m \u001b[38;5;28;01mif\u001b[39;00m \u001b[38;5;129;01mnot\u001b[39;00m scheme:\n\u001b[0;32m--> 439\u001b[0m     \u001b[38;5;28;01mraise\u001b[39;00m MissingSchema(\n\u001b[1;32m    440\u001b[0m         \u001b[38;5;124mf\u001b[39m\u001b[38;5;124m\"\u001b[39m\u001b[38;5;124mInvalid URL \u001b[39m\u001b[38;5;132;01m{\u001b[39;00murl\u001b[38;5;132;01m!r}\u001b[39;00m\u001b[38;5;124m: No scheme supplied. \u001b[39m\u001b[38;5;124m\"\u001b[39m\n\u001b[1;32m    441\u001b[0m         \u001b[38;5;124mf\u001b[39m\u001b[38;5;124m\"\u001b[39m\u001b[38;5;124mPerhaps you meant http://\u001b[39m\u001b[38;5;132;01m{\u001b[39;00murl\u001b[38;5;132;01m}\u001b[39;00m\u001b[38;5;124m?\u001b[39m\u001b[38;5;124m\"\u001b[39m\n\u001b[1;32m    442\u001b[0m     )\n\u001b[1;32m    444\u001b[0m \u001b[38;5;28;01mif\u001b[39;00m \u001b[38;5;129;01mnot\u001b[39;00m host:\n\u001b[1;32m    445\u001b[0m     \u001b[38;5;28;01mraise\u001b[39;00m InvalidURL(\u001b[38;5;124mf\u001b[39m\u001b[38;5;124m\"\u001b[39m\u001b[38;5;124mInvalid URL \u001b[39m\u001b[38;5;132;01m{\u001b[39;00murl\u001b[38;5;132;01m!r}\u001b[39;00m\u001b[38;5;124m: No host supplied\u001b[39m\u001b[38;5;124m\"\u001b[39m)\n",
      "\u001b[0;31mMissingSchema\u001b[0m: Invalid URL '': No scheme supplied. Perhaps you meant http://?"
     ]
    }
   ],
   "source": [
    "URL = ''\n",
    "\n",
    "def parsePage(page):\n",
    "    rest = False\n",
    "    workout = \"\"\n",
    "    date = \"\"\n",
    "    soup = BeautifulSoup(page.content, 'html.parser')\n",
    "    workout_elems = soup.find_all('div', class_='skillDesc')\n",
    "    if len(workout_elems) > 0:\n",
    "        lines = workout_elems[0].contents\n",
    "        \n",
    "        for line in lines:\n",
    "            if str(line) != \"<br/>\":\n",
    "                workout += str(line) + \"\\n\"\n",
    "        workout = workout[:-1]\n",
    "\n",
    "    else:\n",
    "        rest = True\n",
    "        \n",
    "    date_elems = soup.select('#idPage > legend > div:nth-child(1) > span')\n",
    "    date = str(date_elems[0].text)\n",
    "    \n",
    "    link_elems = soup.select('#idPage > legend > div:nth-child(1) > a:nth-child(1)')\n",
    "    previous = URL + str(link_elems[0]['href']) + '&FRAME=true'\n",
    "    \n",
    "    return workout, date, previous, rest\n",
    "\n",
    "dates = []\n",
    "workouts = []\n",
    "while True:\n",
    "    page = requests.get(URL)\n",
    "    workout, date, URL, rest = parsePage(page)\n",
    "    if not(rest):\n",
    "        dates.append(date)\n",
    "        workouts.append(workout)\n",
    "    if date == \"13/02/17\": # Test end condition (this is the first workout posted)\n",
    "        # TODO: rewrite end condition\n",
    "        break\n",
    "data = np.array([dates, workouts])\n",
    "np.save('data', data)"
   ]
  },
  {
   "cell_type": "markdown",
   "metadata": {},
   "source": [
    "## Load dataset"
   ]
  },
  {
   "cell_type": "code",
   "execution_count": null,
   "metadata": {},
   "outputs": [],
   "source": [
    "data = np.load('data.npy')\n",
    "dates = data[0]\n",
    "workouts = data[1]\n",
    "\n",
    "nb_workouts = workouts.shape[0]\n",
    "\n",
    "f = open(\"dataset.txt\", \"w\")\n",
    "for i in range(nb_workouts):\n",
    "    if len(workouts[i]) > 0:\n",
    "        workout = workouts[i].replace(\"\\n\", \"; \")\n",
    "        if workouts[-1] == ' ':\n",
    "            workout = workouts[:-1]\n",
    "        f.write(workout + '\\r\\n')\n",
    "f.close()"
   ]
  },
  {
   "cell_type": "markdown",
   "metadata": {},
   "source": [
    "## Train network"
   ]
  },
  {
   "cell_type": "code",
   "execution_count": 74,
   "metadata": {},
   "outputs": [
    {
     "name": "stdout",
     "output_type": "stream",
     "text": [
      "1,661 texts collected.\n",
      "Training on 95,161 character sequences.\n",
      "WARNING:tensorflow:sample_weight modes were coerced from\n",
      "  ...\n",
      "    to  \n",
      "  ['...']\n",
      "Train for 743 steps\n",
      "Epoch 1/5\n",
      "742/743 [============================>.] - ETA: 0s - loss: 1.4187####################\n",
      "Temperature: 0.2\n",
      "####################\n",
      "\n",
      "\n",
      "\n",
      "\n",
      "\n",
      "\n",
      "####################\n",
      "Temperature: 0.5\n",
      "####################\n",
      "\n",
      "\n",
      "\n",
      "\n",
      "\n",
      "\n",
      "####################\n",
      "Temperature: 1.0\n",
      "####################\n",
      "TECH:; WOD: 7 Rounds; OHS; Z bend-usa burpee over walk\n",
      "\n",
      "TECH: 2x eveimple push up; WOD: E0MOM 20x plank; ; 1 Rounds; 5 Rounds; -10x Band sit up; WAGG can 2min; 2x A/R shupe squat 60min;  7min EL Clean; 5x C2B sutches; / REST 6min; 10x squat 5 mil\n",
      "\n",
      "\n",
      "\n",
      "743/743 [==============================] - 114s 153ms/step - loss: 1.4187\n",
      "Epoch 2/5\n",
      "742/743 [============================>.] - ETA: 0s - loss: 1.0838####################\n",
      "Temperature: 0.2\n",
      "####################\n",
      "TECH: EMOM 15min; - 10x burpees; - 10x strict climbers 95/65#; WOD: AMRAP 7min; 10x sit up; 30x D-U; 10x clean and jerk 95/65#; 10x back squat; 15x strict clean and jerk 95/65#; WOD: 3 Rounds; 10x cal row; 10x DB Push Press; 10x push up; 10x strict climbers 155/155#; 10x banded snatch 95/65#; 10x s\n",
      "\n",
      "TECH: EMOM 15min; - 10x strict clean and jerk ; WOD: ; 50x DB Burpees; 10x push up\n",
      "\n",
      "TECH: EMOM 15min; -10x strict chin up; - 30sec hold; - 100x DB Press; - 10x DB Press; - 10x strict clean and jerk ; 10x back squat; 10x push up; 10x push up; 10x DB Press; 10x DB Press; 10x DB Press; 10x push up; 10x push up; 10x push up; 10x push up; 10x DB Press; 15x strict chin up; 10x push up; \n",
      "\n",
      "####################\n",
      "Temperature: 0.5\n",
      "####################\n",
      "\n",
      "\n",
      "TECH: EMOM 15min @90sec; WOD: AMRAP 6min; 15x Push Press 155/105#; 10x back squat 55/55#; 50x strict clean ABB; 10x T2B; 20x strict pull up; 30x pull up; 12x strict HSPU; 10x Hang power clean and jerk 100m Row; 10x push press; 100x DB Burpees; 15x T2B; 10x D-U\n",
      "\n",
      "TECH: cal Row; - 10/ 10 cal row; -Rest; - 10x sit up; -KB swing; - 30sec work + climbers to hang press; WOD: 21-15-9; - 10 Rounds; 3x Bar muscle up; 30x strict HSPU; 10x bar Muscle up\n",
      "\n",
      "####################\n",
      "Temperature: 1.0\n",
      "####################\n",
      "TECH: L-\n",
      "\n",
      "WOD: 5 RMRAP 3 dumbbedy power clean + 3sec; 10-20 rounds DB / 50/35#; 5x 30-21-30-70-30; -pull up; -S2OH / 6 RM UB; well ; TECH: 20-3-20; M.E. DB Press; Find 3 / 10 grund\n",
      "\n",
      "TECH: 90sec walking is / suppost 20/20 Rounds; 25x set-up on Reps; ; 30x walking with burpee; 60x, band support; WOD: 3 Rounds; 4x T2B ; 5x 10cide-cluster cap/EMOM; WOD: 30 min ON/ 50/35#; 100-8-20 x 120/10; -7x press 7 mipo Press; -OHS; -Sit 40/10x Swing T.C.250 (L)\n",
      "\n",
      "743/743 [==============================] - 148s 199ms/step - loss: 1.0835\n",
      "Epoch 3/5\n",
      "742/743 [============================>.] - ETA: 0s - loss: 0.9695####################\n",
      "Temperature: 0.2\n",
      "####################\n",
      "\n",
      "\n",
      "\n",
      "\n",
      "\n",
      "\n",
      "####################\n",
      "Temperature: 0.5\n",
      "####################\n",
      "TECH: HSPU; Tabata: T-Y-I-W; WOD: ; 5x DB clean and jerk 15 mountain climbers; WOD: AMRAP 3min; 10x BB Press; 30x D-U; 10x DB push up; 400m Run; 400m Run; 10x D-U; 10x beat swing; 10/10x HSPU; 30x Devear strict HSPU; 10x D-U; 10x D-U; 30x D-U; 30x D-U; 10x D-U; 15x D-U\n",
      "\n",
      "\n",
      "\n",
      "\n",
      "\n",
      "####################\n",
      "Temperature: 1.0\n",
      "####################\n",
      "\n",
      "\n",
      "TECH: 7min *; 400m DB hollow rock; TECH: Max; 10x frontion; 15x seated back squat, plank; 35: 9ponge to hollow maker T.S; 10x TABATY!! t.C. Rest 3 min; 34x HPC 95/65#; 16x Thruster ABD; M.E.\n",
      "\n",
      "\n",
      "\n",
      "743/743 [==============================] - 120s 161ms/step - loss: 0.9693\n",
      "Epoch 4/5\n",
      "742/743 [============================>.] - ETA: 0s - loss: 0.8916####################\n",
      "Temperature: 0.2\n",
      "####################\n",
      "\n",
      "\n",
      "TECH: EMOM 12min; -10x sit up; - 10x sit up; -10x D-U; - 10x D-U; - 10x D-U; - 10x D-U; - 10x D-U; - 10x D-U; - 10x D-U; - 10x D-U; - 10x D-U; - 10x D-U; - 10x D-U; -10x D-U; - 10x D-U; - 10x D-U; - 10x D-U; - 10x D-U; - 10x D-U; - 10x D-U; - 20x D-U; - 10x D-U; -5x squat snatch 95/65#; - 10x DB sn\n",
      "\n",
      "\n",
      "\n",
      "####################\n",
      "Temperature: 0.5\n",
      "####################\n",
      "TECH: EMOM 10min; -10x strict pull up; -10x D-U; - 10x box jump 24/20; -10x D-U; -10x D-U; -5x T2B; - 20x D-U; -20x D-U; -20x push up; -30sec ON/ 10x Push Press; -10x sit up; 30x D-U; 30x sit up; 10x Deadlift 185/125#; 15x D-U\n",
      "\n",
      "TECH: EMOM 12min; - 10x D-U; - 10x D-U; - 10x BB DB snatch + 5 reps; - 10x DB clean & Jerk; - 20x strict pull up; -10x strict pull up; -10x push up; -10x push up; -5/5 x DB clean and jerk 185/125; 5x DB push Press 155/55#\n",
      "\n",
      "TECH: Bar muscle up; WOD: ; 50x DB clean 245/125; 10x DB Push Press 50/35#\n",
      "\n",
      "####################\n",
      "Temperature: 1.0\n",
      "####################\n",
      "WOD: 3 Rounds; 25/14x swimmers; 15 x GG; 30x Deadlift A/ BBR; 30x D-U Press; 5 Rounds; 1ST 5st walking lunge; 30x russian carry; WOD: AMRAP 40min; 10 Rounds; 10x Squat Burpees \n",
      "\n",
      "TECH: 5 rounds; 15x Burpees; 50x squat\n",
      "\n",
      "TECH: 2x Strict Press; 10 power clean\n",
      "\n",
      "743/743 [==============================] - 133s 179ms/step - loss: 0.8916\n",
      "Epoch 5/5\n",
      "742/743 [============================>.] - ETA: 0s - loss: 0.8257####################\n",
      "Temperature: 0.2\n",
      "####################\n",
      "\n",
      "\n",
      "TECH: EMOM 10min; -10x squat snatch 95/65; - 10x squat snatch 95/65; - 10x strict pull up; - 10x back squat; -10x squat clean and jerk; WOD: EMOM 15min ; Rest 3min; 10x DB snatch 95/65; 10x DB Push Press 95/65#; 10x pull up; 10x squat clean and jerk; 10x squat snatch 95/65; 5x burpees; 10x pull up;\n",
      "\n",
      "\n",
      "\n",
      "####################\n",
      "Temperature: 0.5\n",
      "####################\n",
      "\n",
      "\n",
      "\n",
      "\n",
      "TECH: EMOM 10min; - 10x pull up ; - 10x strict pull up; -10x sit up; -bar muscle up; - 20x box jump 24/20; -10x pull up; - 25x push up; -20x sit up; - 10x squat snatch 95/65#; - 10x strict pull up; - 10x DB push Jerk ; - 10x DB thrusters 95/65; 1x squat snatch 95/65; 10x pull up; 5x squat clean; 10\n",
      "\n",
      "####################\n",
      "Temperature: 1.0\n",
      "####################\n",
      "TECH: Snatch; WOD 7min/25/75# Press 45sec; 50x pull up; BBom Strict Press; 800m Run  Every 36min; 10x HPC Z Press 95/65; 50x wallball 20/14; 30x squat snatch 95 / 2 leg deadlift 185/125#; WOD: 5 Rounds; 20x be over bar; 4x 4; 30x # swing; 30x clean and jerk; 15x HSPU; 50x DB snatch; 3x A/ R over- x\n",
      "\n",
      "\n",
      "\n",
      "TECH: EMOM 15min; -10x reverse 135/9x ; Hs walk; - Must muscle up; -10x sprint is 1rep\n",
      "\n",
      "743/743 [==============================] - 131s 177ms/step - loss: 0.8259\n"
     ]
    }
   ],
   "source": [
    "from textgenrnn import textgenrnn\n",
    "\n",
    "textgen = textgenrnn()\n",
    "textgen.train_from_file('dataset.txt', num_epochs=5)"
   ]
  },
  {
   "cell_type": "markdown",
   "metadata": {},
   "source": [
    "## Prediction"
   ]
  },
  {
   "cell_type": "code",
   "execution_count": 89,
   "metadata": {},
   "outputs": [
    {
     "name": "stderr",
     "output_type": "stream",
     "text": [
      "100%|██████████| 3/3 [00:13<00:00,  4.56s/it]"
     ]
    },
    {
     "name": "stdout",
     "output_type": "stream",
     "text": [
      "WOD: EMOM 20min\n",
      "-10x squat clean and jerk 95/65\n",
      "10-4-3-2-3\n",
      "-----\n",
      "TECH: EMOM 10min\n",
      "-10x suicide\n",
      "plate\n",
      "-10x jumping lunge\n",
      "-4x banded bar muscle up\n",
      "- 1RM Squat\n",
      "-10x squat snatch 155/105#\n",
      "- extension hold\n",
      "- press 95/65\n",
      "- straight hold\n",
      "- 10/10x cal row\n",
      "-----\n",
      "TECH: EMOM 15min \n",
      "- 10x Snade walking lunge\n",
      "10x DB Push Press 95/65\n",
      "10x C2B pull up\n",
      "20x pull up\n",
      "20x squat clean\n",
      "10x push use 5\n",
      "10x pull up\n",
      "10x banded banded box jump 24/20\n",
      "20x sit up\n",
      "10x bar muscle up\n",
      "30x D-U\n",
      "20x pull up\n",
      "-----\n"
     ]
    },
    {
     "name": "stderr",
     "output_type": "stream",
     "text": [
      "\n"
     ]
    }
   ],
   "source": [
    "workouts = textgen.generate(3, return_as_list=True)\n",
    "for i in range(len(workouts)):\n",
    "    print(workouts[i].replace(\"; \", \"\\n\"))\n",
    "    print('-----')"
   ]
  },
  {
   "cell_type": "markdown",
   "metadata": {},
   "source": [
    "This is a very naive version of what a WOD predictor could be given a dataset of previous workouts.\n",
    "\n",
    "Observations\n",
    "- The model seems to invent new movements such as \"straight hold\"\n",
    "- Some words seem to be repeated when they are never repeated in the original dataset\n",
    "- It looks like the syntax of the original dataset needs to be cleaned a little more (e.g. presence or not of the character \"-\" at the beginning of a line\n",
    "- There's too many movements per workout, which would never be the case in real workouts"
   ]
  },
  {
   "cell_type": "code",
   "execution_count": null,
   "metadata": {},
   "outputs": [],
   "source": []
  }
 ],
 "metadata": {
  "kernelspec": {
   "display_name": "Python 3 (ipykernel)",
   "language": "python",
   "name": "python3"
  },
  "language_info": {
   "codemirror_mode": {
    "name": "ipython",
    "version": 3
   },
   "file_extension": ".py",
   "mimetype": "text/x-python",
   "name": "python",
   "nbconvert_exporter": "python",
   "pygments_lexer": "ipython3",
   "version": "3.10.9"
  }
 },
 "nbformat": 4,
 "nbformat_minor": 4
}
