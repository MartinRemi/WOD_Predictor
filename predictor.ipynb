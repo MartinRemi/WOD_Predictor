{
 "cells": [
  {
   "cell_type": "markdown",
   "metadata": {},
   "source": [
    "# WOD predictor"
   ]
  },
  {
   "cell_type": "markdown",
   "metadata": {},
   "source": [
    "## Objective\n",
    "\n",
    "A WOD is a workout of the day. It is a specific, pre-written workout that is often used in CrossFit and other high-intensity interval training (HIIT) programs. The workout typically includes a variety of exercises, such as weightlifting, calisthenics, and cardio, and is designed to be challenging and to improve overall fitness.\n",
    "\n",
    "The objective for this project is to train learning models to predict future WODs."
   ]
  },
  {
   "cell_type": "markdown",
   "metadata": {},
   "source": [
    "## WOD scraping"
   ]
  },
  {
   "cell_type": "markdown",
   "metadata": {},
   "source": [
    "We are first scrapping WODs on Zenplanner.\n",
    "The scrapping code is not super optimized there's still changes to be made.\n",
    "\n",
    "/!\\ May not work anymore if Zenplanner's DOM is changed."
   ]
  },
  {
   "cell_type": "code",
   "execution_count": 3,
   "metadata": {},
   "outputs": [],
   "source": [
    "import requests\n",
    "from bs4 import BeautifulSoup\n",
    "import numpy as np\n",
    "\n",
    "from keras.models import Sequential\n",
    "from keras.layers import Dense\n",
    "from keras.layers import Dropout\n",
    "from keras.layers import LSTM\n",
    "from keras.callbacks import ModelCheckpoint\n",
    "from keras.utils import np_utils"
   ]
  },
  {
   "cell_type": "code",
   "execution_count": null,
   "metadata": {},
   "outputs": [],
   "source": [
    "URL = ''\n",
    "\n",
    "def parsePage(page):\n",
    "    rest = False\n",
    "    workout = \"\"\n",
    "    date = \"\"\n",
    "    soup = BeautifulSoup(page.content, 'html.parser')\n",
    "    workout_elems = soup.find_all('div', class_='skillDesc')\n",
    "    if len(workout_elems) > 0:\n",
    "        lines = workout_elems[0].contents\n",
    "        \n",
    "        for line in lines:\n",
    "            if str(line) != \"<br/>\":\n",
    "                workout += str(line) + \"\\n\"\n",
    "        workout = workout[:-1]\n",
    "\n",
    "    else:\n",
    "        rest = True\n",
    "        \n",
    "    date_elems = soup.select('#idPage > legend > div:nth-child(1) > span')\n",
    "    date = str(date_elems[0].text)\n",
    "    \n",
    "    link_elems = soup.select('#idPage > legend > div:nth-child(1) > a:nth-child(1)')\n",
    "    previous = URL + str(link_elems[0]['href']) + '&FRAME=true'\n",
    "    \n",
    "    return workout, date, previous, rest\n",
    "\n",
    "dates = []\n",
    "workouts = []\n",
    "while True:\n",
    "    page = requests.get(URL)\n",
    "    workout, date, URL, rest = parsePage(page)\n",
    "    if not(rest):\n",
    "        dates.append(date)\n",
    "        workouts.append(workout)\n",
    "    if date == \"13/02/17\": # Test end condition (this is the first workout posted)\n",
    "        # TODO: rewrite end condition\n",
    "        break\n",
    "data = np.array([dates, workouts])\n",
    "np.save('data', data)"
   ]
  },
  {
   "cell_type": "markdown",
   "metadata": {},
   "source": [
    "## Load dataset"
   ]
  },
  {
   "cell_type": "code",
   "execution_count": null,
   "metadata": {},
   "outputs": [],
   "source": [
    "data = np.load('data.npy')\n",
    "dates = data[0]\n",
    "workouts = data[1]\n",
    "\n",
    "nb_workouts = workouts.shape[0]\n",
    "\n",
    "f = open(\"dataset.txt\", \"w\")\n",
    "for i in range(nb_workouts):\n",
    "    if len(workouts[i]) > 0:\n",
    "        workout = workouts[i].replace(\"\\n\", \"; \")\n",
    "        if workouts[-1] == ' ':\n",
    "            workout = workouts[:-1]\n",
    "        f.write(workout + '\\r\\n')\n",
    "f.close()"
   ]
  },
  {
   "cell_type": "markdown",
   "metadata": {},
   "source": [
    "## Train network"
   ]
  },
  {
   "cell_type": "code",
   "execution_count": 74,
   "metadata": {},
   "outputs": [
    {
     "name": "stdout",
     "output_type": "stream",
     "text": [
      "1,661 texts collected.\n",
      "Training on 95,161 character sequences.\n",
      "WARNING:tensorflow:sample_weight modes were coerced from\n",
      "  ...\n",
      "    to  \n",
      "  ['...']\n",
      "Train for 743 steps\n",
      "Epoch 1/5\n",
      "742/743 [============================>.] - ETA: 0s - loss: 1.4187####################\n",
      "Temperature: 0.2\n",
      "####################\n",
      "\n",
      "\n",
      "\n",
      "\n",
      "\n",
      "\n",
      "####################\n",
      "Temperature: 0.5\n",
      "####################\n",
      "\n",
      "\n",
      "\n",
      "\n",
      "\n",
      "\n",
      "####################\n",
      "Temperature: 1.0\n",
      "####################\n",
      "TECH:; WOD: 7 Rounds; OHS; Z bend-usa burpee over walk\n",
      "\n",
      "TECH: 2x eveimple push up; WOD: E0MOM 20x plank; ; 1 Rounds; 5 Rounds; -10x Band sit up; WAGG can 2min; 2x A/R shupe squat 60min;  7min EL Clean; 5x C2B sutches; / REST 6min; 10x squat 5 mil\n",
      "\n",
      "\n",
      "\n",
      "743/743 [==============================] - 114s 153ms/step - loss: 1.4187\n",
      "Epoch 2/5\n",
      "742/743 [============================>.] - ETA: 0s - loss: 1.0838####################\n",
      "Temperature: 0.2\n",
      "####################\n",
      "TECH: EMOM 15min; - 10x burpees; - 10x strict climbers 95/65#; WOD: AMRAP 7min; 10x sit up; 30x D-U; 10x clean and jerk 95/65#; 10x back squat; 15x strict clean and jerk 95/65#; WOD: 3 Rounds; 10x cal row; 10x DB Push Press; 10x push up; 10x strict climbers 155/155#; 10x banded snatch 95/65#; 10x s\n",
      "\n",
      "TECH: EMOM 15min; - 10x strict clean and jerk ; WOD: ; 50x DB Burpees; 10x push up\n",
      "\n",
      "TECH: EMOM 15min; -10x strict chin up; - 30sec hold; - 100x DB Press; - 10x DB Press; - 10x strict clean and jerk ; 10x back squat; 10x push up; 10x push up; 10x DB Press; 10x DB Press; 10x DB Press; 10x push up; 10x push up; 10x push up; 10x push up; 10x DB Press; 15x strict chin up; 10x push up; \n",
      "\n",
      "####################\n",
      "Temperature: 0.5\n",
      "####################\n",
      "\n",
      "\n",
      "TECH: EMOM 15min @90sec; WOD: AMRAP 6min; 15x Push Press 155/105#; 10x back squat 55/55#; 50x strict clean ABB; 10x T2B; 20x strict pull up; 30x pull up; 12x strict HSPU; 10x Hang power clean and jerk 100m Row; 10x push press; 100x DB Burpees; 15x T2B; 10x D-U\n",
      "\n",
      "TECH: cal Row; - 10/ 10 cal row; -Rest; - 10x sit up; -KB swing; - 30sec work + climbers to hang press; WOD: 21-15-9; - 10 Rounds; 3x Bar muscle up; 30x strict HSPU; 10x bar Muscle up\n",
      "\n",
      "####################\n",
      "Temperature: 1.0\n",
      "####################\n",
      "TECH: L-\n",
      "\n",
      "WOD: 5 RMRAP 3 dumbbedy power clean + 3sec; 10-20 rounds DB / 50/35#; 5x 30-21-30-70-30; -pull up; -S2OH / 6 RM UB; well ; TECH: 20-3-20; M.E. DB Press; Find 3 / 10 grund\n",
      "\n",
      "TECH: 90sec walking is / suppost 20/20 Rounds; 25x set-up on Reps; ; 30x walking with burpee; 60x, band support; WOD: 3 Rounds; 4x T2B ; 5x 10cide-cluster cap/EMOM; WOD: 30 min ON/ 50/35#; 100-8-20 x 120/10; -7x press 7 mipo Press; -OHS; -Sit 40/10x Swing T.C.250 (L)\n",
      "\n",
      "743/743 [==============================] - 148s 199ms/step - loss: 1.0835\n",
      "Epoch 3/5\n",
      "742/743 [============================>.] - ETA: 0s - loss: 0.9695####################\n",
      "Temperature: 0.2\n",
      "####################\n",
      "\n",
      "\n",
      "\n",
      "\n",
      "\n",
      "\n",
      "####################\n",
      "Temperature: 0.5\n",
      "####################\n",
      "TECH: HSPU; Tabata: T-Y-I-W; WOD: ; 5x DB clean and jerk 15 mountain climbers; WOD: AMRAP 3min; 10x BB Press; 30x D-U; 10x DB push up; 400m Run; 400m Run; 10x D-U; 10x beat swing; 10/10x HSPU; 30x Devear strict HSPU; 10x D-U; 10x D-U; 30x D-U; 30x D-U; 10x D-U; 15x D-U\n",
      "\n",
      "\n",
      "\n",
      "\n",
      "\n",
      "####################\n",
      "Temperature: 1.0\n",
      "####################\n",
      "\n",
      "\n",
      "TECH: 7min *; 400m DB hollow rock; TECH: Max; 10x frontion; 15x seated back squat, plank; 35: 9ponge to hollow maker T.S; 10x TABATY!! t.C. Rest 3 min; 34x HPC 95/65#; 16x Thruster ABD; M.E.\n",
      "\n",
      "\n",
      "\n",
      "743/743 [==============================] - 120s 161ms/step - loss: 0.9693\n",
      "Epoch 4/5\n",
      "742/743 [============================>.] - ETA: 0s - loss: 0.8916####################\n",
      "Temperature: 0.2\n",
      "####################\n",
      "\n",
      "\n",
      "TECH: EMOM 12min; -10x sit up; - 10x sit up; -10x D-U; - 10x D-U; - 10x D-U; - 10x D-U; - 10x D-U; - 10x D-U; - 10x D-U; - 10x D-U; - 10x D-U; - 10x D-U; - 10x D-U; -10x D-U; - 10x D-U; - 10x D-U; - 10x D-U; - 10x D-U; - 10x D-U; - 10x D-U; - 20x D-U; - 10x D-U; -5x squat snatch 95/65#; - 10x DB sn\n",
      "\n",
      "\n",
      "\n",
      "####################\n",
      "Temperature: 0.5\n",
      "####################\n",
      "TECH: EMOM 10min; -10x strict pull up; -10x D-U; - 10x box jump 24/20; -10x D-U; -10x D-U; -5x T2B; - 20x D-U; -20x D-U; -20x push up; -30sec ON/ 10x Push Press; -10x sit up; 30x D-U; 30x sit up; 10x Deadlift 185/125#; 15x D-U\n",
      "\n",
      "TECH: EMOM 12min; - 10x D-U; - 10x D-U; - 10x BB DB snatch + 5 reps; - 10x DB clean & Jerk; - 20x strict pull up; -10x strict pull up; -10x push up; -10x push up; -5/5 x DB clean and jerk 185/125; 5x DB push Press 155/55#\n",
      "\n",
      "TECH: Bar muscle up; WOD: ; 50x DB clean 245/125; 10x DB Push Press 50/35#\n",
      "\n",
      "####################\n",
      "Temperature: 1.0\n",
      "####################\n",
      "WOD: 3 Rounds; 25/14x swimmers; 15 x GG; 30x Deadlift A/ BBR; 30x D-U Press; 5 Rounds; 1ST 5st walking lunge; 30x russian carry; WOD: AMRAP 40min; 10 Rounds; 10x Squat Burpees \n",
      "\n",
      "TECH: 5 rounds; 15x Burpees; 50x squat\n",
      "\n",
      "TECH: 2x Strict Press; 10 power clean\n",
      "\n",
      "743/743 [==============================] - 133s 179ms/step - loss: 0.8916\n",
      "Epoch 5/5\n",
      "742/743 [============================>.] - ETA: 0s - loss: 0.8257####################\n",
      "Temperature: 0.2\n",
      "####################\n",
      "\n",
      "\n",
      "TECH: EMOM 10min; -10x squat snatch 95/65; - 10x squat snatch 95/65; - 10x strict pull up; - 10x back squat; -10x squat clean and jerk; WOD: EMOM 15min ; Rest 3min; 10x DB snatch 95/65; 10x DB Push Press 95/65#; 10x pull up; 10x squat clean and jerk; 10x squat snatch 95/65; 5x burpees; 10x pull up;\n",
      "\n",
      "\n",
      "\n",
      "####################\n",
      "Temperature: 0.5\n",
      "####################\n",
      "\n",
      "\n",
      "\n",
      "\n",
      "TECH: EMOM 10min; - 10x pull up ; - 10x strict pull up; -10x sit up; -bar muscle up; - 20x box jump 24/20; -10x pull up; - 25x push up; -20x sit up; - 10x squat snatch 95/65#; - 10x strict pull up; - 10x DB push Jerk ; - 10x DB thrusters 95/65; 1x squat snatch 95/65; 10x pull up; 5x squat clean; 10\n",
      "\n",
      "####################\n",
      "Temperature: 1.0\n",
      "####################\n",
      "TECH: Snatch; WOD 7min/25/75# Press 45sec; 50x pull up; BBom Strict Press; 800m Run  Every 36min; 10x HPC Z Press 95/65; 50x wallball 20/14; 30x squat snatch 95 / 2 leg deadlift 185/125#; WOD: 5 Rounds; 20x be over bar; 4x 4; 30x # swing; 30x clean and jerk; 15x HSPU; 50x DB snatch; 3x A/ R over- x\n",
      "\n",
      "\n",
      "\n",
      "TECH: EMOM 15min; -10x reverse 135/9x ; Hs walk; - Must muscle up; -10x sprint is 1rep\n",
      "\n",
      "743/743 [==============================] - 131s 177ms/step - loss: 0.8259\n"
     ]
    }
   ],
   "source": [
    "from textgenrnn import textgenrnn\n",
    "\n",
    "textgen = textgenrnn()\n",
    "textgen.train_from_file('dataset.txt', num_epochs=5)"
   ]
  },
  {
   "cell_type": "markdown",
   "metadata": {},
   "source": [
    "## Prediction"
   ]
  },
  {
   "cell_type": "code",
   "execution_count": 89,
   "metadata": {},
   "outputs": [
    {
     "name": "stderr",
     "output_type": "stream",
     "text": [
      "100%|██████████| 3/3 [00:13<00:00,  4.56s/it]"
     ]
    },
    {
     "name": "stdout",
     "output_type": "stream",
     "text": [
      "WOD: EMOM 20min\n",
      "-10x squat clean and jerk 95/65\n",
      "10-4-3-2-3\n",
      "-----\n",
      "TECH: EMOM 10min\n",
      "-10x suicide\n",
      "plate\n",
      "-10x jumping lunge\n",
      "-4x banded bar muscle up\n",
      "- 1RM Squat\n",
      "-10x squat snatch 155/105#\n",
      "- extension hold\n",
      "- press 95/65\n",
      "- straight hold\n",
      "- 10/10x cal row\n",
      "-----\n",
      "TECH: EMOM 15min \n",
      "- 10x Snade walking lunge\n",
      "10x DB Push Press 95/65\n",
      "10x C2B pull up\n",
      "20x pull up\n",
      "20x squat clean\n",
      "10x push use 5\n",
      "10x pull up\n",
      "10x banded banded box jump 24/20\n",
      "20x sit up\n",
      "10x bar muscle up\n",
      "30x D-U\n",
      "20x pull up\n",
      "-----\n"
     ]
    },
    {
     "name": "stderr",
     "output_type": "stream",
     "text": [
      "\n"
     ]
    }
   ],
   "source": [
    "workouts = textgen.generate(3, return_as_list=True)\n",
    "for i in range(len(workouts)):\n",
    "    print(workouts[i].replace(\"; \", \"\\n\"))\n",
    "    print('-----')"
   ]
  },
  {
   "cell_type": "markdown",
   "metadata": {},
   "source": [
    "This is a very naive version of what a WOD predictor could be given a dataset of previous workouts.\n",
    "\n",
    "Observations\n",
    "- The model seems to invent new movements such as \"straight hold\"\n",
    "- Some words seem to be repeated when they are never repeated in the original dataset\n",
    "- It looks like the syntax of the original dataset needs to be cleaned a little more (e.g. presence or not of the character \"-\" at the beginning of a line\n",
    "- There's too many movements per workout, which would never be the case in real workouts"
   ]
  },
  {
   "cell_type": "code",
   "execution_count": null,
   "metadata": {},
   "outputs": [],
   "source": []
  }
 ],
 "metadata": {
  "kernelspec": {
   "display_name": "Python 3 (ipykernel)",
   "language": "python",
   "name": "python3"
  },
  "language_info": {
   "codemirror_mode": {
    "name": "ipython",
    "version": 3
   },
   "file_extension": ".py",
   "mimetype": "text/x-python",
   "name": "python",
   "nbconvert_exporter": "python",
   "pygments_lexer": "ipython3",
   "version": "3.10.9"
  }
 },
 "nbformat": 4,
 "nbformat_minor": 4
}
